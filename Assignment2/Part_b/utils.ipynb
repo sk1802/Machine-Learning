{
 "cells": [
  {
   "cell_type": "code",
   "execution_count": 1,
   "id": "bfbdbb06",
   "metadata": {},
   "outputs": [],
   "source": [
    "class Dataset:\n",
    "    def __init__(self,no_of_points):\n",
    "        \n",
    "        self.n=no_of_points\n",
    "    def get(self,add_noise=False):\n",
    "        import pandas as pd\n",
    "        import numpy as np\n",
    "        X=[]\n",
    "        Y=[]\n",
    "        Labels=[]\n",
    "        K=[0,3]\n",
    "        sign=[-1,1]\n",
    "        for i in range(self.n):\n",
    "            \n",
    "            k=np.random.choice(K)\n",
    "            x=np.random.uniform(-1,1)\n",
    "            X.append(x)\n",
    "            y = np.power(1-(x**2),0.5)\n",
    "            y=np.random.choice(sign)*y\n",
    "            y=y+k\n",
    "            Y.append(y)\n",
    "            if(k==0):\n",
    "                Labels.append(0)\n",
    "            else:\n",
    "                Labels.append(1)\n",
    "\n",
    "        if(add_noise==True):\n",
    "            for i in range(self.n):\n",
    "                X[i]+=np.random.normal(0, 0.1)\n",
    "                Y[i]+=np.random.normal(0, 0.1)\n",
    "                \n",
    "                \n",
    "        data={'X':X,'Y':Y,'Labels':Labels}\n",
    "        df=pd.DataFrame(data)\n",
    "        \n",
    "        return df"
   ]
  },
  {
   "cell_type": "code",
   "execution_count": 2,
   "id": "80e09979",
   "metadata": {},
   "outputs": [],
   "source": [
    "class perceptron():\n",
    "    def predict(self,row,):\n",
    "        activation = self.weights[0]\n",
    "        for i in range(len(row)-1):\n",
    "            activation += self.weights[i + 1] * row[i]\n",
    "        return 1.0 if activation > 0.0 else 0.0\n",
    "\n",
    "    # Estimate Perceptron weights using stochastic gradient descent\n",
    "    def train_weights(self,train,n_epoch,bias):\n",
    "        self.weights = [0.0 for i in range(len(train[0]))]\n",
    "    #     weights[0]=0\n",
    "        for epoch in range(n_epoch):\n",
    "            sum_error = 0.0\n",
    "            for row in train:\n",
    "                prediction = self.predict(row)\n",
    "                error = row[-1] - prediction\n",
    "                sum_error += error**2\n",
    "                if(bias==1):\n",
    "                    self.weights[0] = self.weights[0] +  error \n",
    "                for i in range(len(row)-1):\n",
    "                    self.weights[i + 1] = self.weights[i + 1] + error * row[i]\n",
    "            print('>epoch=%d, error=%.3f' % (epoch, sum_error),end=' ')\n",
    "            print(self.weights)\n",
    "#         return weights\n",
    "    def make_prediction(self,data):\n",
    "        return np.dot(self.weights[1:],data)+self.weights[0]"
   ]
  },
  {
   "cell_type": "code",
   "execution_count": 3,
   "id": "a0d57aa9",
   "metadata": {},
   "outputs": [],
   "source": [
    "def train_test_split(data,t):\n",
    "#     data=np.array(data)\n",
    "    x=len(data)\n",
    "    print(x)\n",
    "    x=int(x*t//100)\n",
    "    print(x)\n",
    "    return data[:x,:-1] , data[:x,-1] ,data[x:,:-1] ,data[x:,-1]"
   ]
  },
  {
   "cell_type": "code",
   "execution_count": 4,
   "id": "6fd36163",
   "metadata": {},
   "outputs": [],
   "source": [
    "# d=Dataset(10000)\n",
    "# df=d.get()\n",
    "# sns.scatterplot(data=df,x=\"X\",y=\"Y\",hue='Labels')"
   ]
  },
  {
   "cell_type": "code",
   "execution_count": 5,
   "id": "247a83f9",
   "metadata": {},
   "outputs": [],
   "source": [
    "# import numpy as np\n",
    "# p=perceptron()\n",
    "# p.train_weights(np.array(df),5,0)\n",
    "# x1,y1,x2,y2 = train_test_split(np.array(df),80)\n",
    "\n",
    "# print(x1.shape)\n",
    "# print(x2.shape)\n",
    "# print(y1.shape)\n",
    "# print(y2.shape)"
   ]
  },
  {
   "cell_type": "code",
   "execution_count": 6,
   "id": "f8a71a65",
   "metadata": {},
   "outputs": [],
   "source": [
    "# df"
   ]
  },
  {
   "cell_type": "code",
   "execution_count": 7,
   "id": "40853c1c",
   "metadata": {},
   "outputs": [],
   "source": [
    "# x1"
   ]
  },
  {
   "cell_type": "code",
   "execution_count": 8,
   "id": "0a5af6b4",
   "metadata": {},
   "outputs": [],
   "source": [
    "# y1"
   ]
  },
  {
   "cell_type": "code",
   "execution_count": null,
   "id": "5ac594d0",
   "metadata": {},
   "outputs": [],
   "source": []
  }
 ],
 "metadata": {
  "kernelspec": {
   "display_name": "Python 3 (ipykernel)",
   "language": "python",
   "name": "python3"
  },
  "language_info": {
   "codemirror_mode": {
    "name": "ipython",
    "version": 3
   },
   "file_extension": ".py",
   "mimetype": "text/x-python",
   "name": "python",
   "nbconvert_exporter": "python",
   "pygments_lexer": "ipython3",
   "version": "3.9.7"
  }
 },
 "nbformat": 4,
 "nbformat_minor": 5
}
